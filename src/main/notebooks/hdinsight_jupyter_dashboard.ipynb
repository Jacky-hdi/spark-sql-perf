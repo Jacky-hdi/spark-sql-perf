{
 "cells": [
  {
   "cell_type": "code",
   "execution_count": null,
   "id": "7bfda265",
   "metadata": {},
   "outputs": [],
   "source": [
    "%%configure -f\n",
    "{\n",
    "    \"conf\":{\"spark.driver.memory\":\"3g\",\"spark.executor.memory\":\"4g\",\"spark.executor.cores\":2,\"spark.executor.instances\":8,\"spark.jars\":\"/spark-sql-perf-assembly-0.7.1-SNAPSHOT.jar\"}\n",
    "}"
   ]
  },
  {
   "cell_type": "code",
   "execution_count": null,
   "id": "206293ce",
   "metadata": {},
   "outputs": [],
   "source": [
    "import pandas as pd\n",
    "import matplotlib.pyplot as plt\n",
    "\n",
    "resultLocation = \"abfs://sparkkc@linjzhukcadls.dfs.core.windows.net/result\" \n",
    "resultTable = spark.read.json(resultLocation)\n",
    "resultTable.createOrReplaceTempView(\"sqlPerformance\")\n",
    "\n",
    "ds = spark.sql(\"\"\"select tsVersion,substring(result.name,1,length(result.name)-5) as name,(result.parsingTime+result.analysisTime+result.optimizationTime+result.planningTime+result.executionTime)/1000.0 as runtime from (\n",
    "select concat_ws('-',timestamp,configuration.sparkVersion) as tsVersion, explode(results) as result from sqlPerformance where timestamp in (1692255307792,1692170386179,1692274972828)\n",
    "    )\"\"\")\n",
    "pdf = ds.toPandas()\n",
    "\n",
    "\n",
    "plt.figure(figsize=(30,20))\n",
    "for label, grp in pdf.groupby('tsVersion'):\n",
    "    print(label)\n",
    "    print(grp)\n",
    "    plt.plot(grp[\"name\"], grp[\"runtime\"], label = label)\n",
    "   \n",
    "\n",
    "plt.xticks(rotation=45)\n",
    "plt.legend()\n",
    "plt.show()"
   ]
  },
  {
   "cell_type": "code",
   "execution_count": null,
   "id": "f1de3a8d",
   "metadata": {},
   "outputs": [],
   "source": [
    "%%sql\n",
    "select timestamp,result.failure.* from (\n",
    "select timestamp, explode(results) as result from sqlPerformance\n",
    "    )"
   ]
  },
  {
   "cell_type": "code",
   "execution_count": null,
   "id": "61ec8e93",
   "metadata": {},
   "outputs": [],
   "source": [
    "%matplot plt"
   ]
  },
  {
   "cell_type": "code",
   "execution_count": null,
   "id": "8a7a25cb",
   "metadata": {},
   "outputs": [],
   "source": []
  }
 ],
 "metadata": {
  "kernelspec": {
   "display_name": "PySpark",
   "language": "python",
   "name": "pysparkkernel"
  },
  "language_info": {
   "codemirror_mode": {
    "name": "python",
    "version": 3
   },
   "file_extension": ".py",
   "mimetype": "text/x-python",
   "name": "pyspark",
   "pygments_lexer": "python3"
  }
 },
 "nbformat": 4,
 "nbformat_minor": 5
}
